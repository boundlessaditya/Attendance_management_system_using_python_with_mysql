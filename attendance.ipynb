{
 "cells": [
  {
   "cell_type": "code",
   "execution_count": 23,
   "id": "0d331b18-aca9-4c55-bdb6-1c7c13016046",
   "metadata": {},
   "outputs": [],
   "source": [
    "import calendar\n",
    "from datetime import date\n",
    "import pandas as pd\n",
    "import mysql.connector as myconn"
   ]
  },
  {
   "cell_type": "raw",
   "id": "bc196fa2-efd3-4bf2-98f5-49ac7cba52aa",
   "metadata": {},
   "source": [
    "#To create table in mysql using python\n",
    "query = \"CREATE TABLE emp3(id int,name varchar(20) not null,post varchar(10),age int,check (age>=18),primary key (id))\"\n",
    "cursor.execute(query)\n",
    "mydb.commit()"
   ]
  },
  {
   "cell_type": "code",
   "execution_count": 30,
   "id": "10149b00-f53c-44a6-b3e1-ce80aeb19bb5",
   "metadata": {},
   "outputs": [],
   "source": [
    "def add_new_employees():\n",
    "    mydb = myconn.Connect(host = 'localhost', user = 'root', password = '9876', database = 'employee')\n",
    "    if mydb.is_connected():\n",
    "        print(\"Connection established!!\")\n",
    "    cursor = mydb.cursor()\n",
    "    name = str(input(\"Enter name : \"))\n",
    "    id = int(input(\"Enter id : \"))\n",
    "    post = str(input(\"Enter post : \"))\n",
    "    age = int(input(\"Enter age : \"))\n",
    "    query = \"insert into emp3(id,name,post,age)values({},'{}','{}',{})\".format(id,name,post,age)\n",
    "    df = pd.read_csv(\"employee.csv\",index_col = 0)\n",
    "    values = []\n",
    "    for i in range(0,len(df)):\n",
    "        values.append(\"A\")\n",
    "    df[str(id)] = values\n",
    "    df.to_csv('employee.csv')\n",
    "    cursor.execute(query)\n",
    "    mydb.commit()\n",
    "    permission = \"Y\"\n",
    "    while(permission == \"Y\"):\n",
    "        permission = str(input(\"Do you want to enter more data ? (Type 'Y' for yes) : \"))\n",
    "        if permission != \"Y\":\n",
    "            break\n",
    "        add_new_employees()\n"
   ]
  },
  {
   "cell_type": "code",
   "execution_count": 31,
   "id": "e0ea37f7-0b01-432d-8596-39c931697e2d",
   "metadata": {},
   "outputs": [],
   "source": [
    "def attendance_system():\n",
    "    df = pd.read_csv(\"employee.csv\",index_col = 0)\n",
    "    df.Date = pd.to_datetime(df.Date).dt.date\n",
    "    counter = df.shape[0]\n",
    "    today = date.today()\n",
    "    print(\"Today's date is: \", today)\n",
    "    cols = len(df.columns)\n",
    "    attendance = [today]\n",
    "    for i in range(1,cols):\n",
    "        x = int(input(\"Enter today's attendance of \"+df.columns[i]+\" : \"))\n",
    "        if x == 1:\n",
    "            x = \"P\"\n",
    "        else:\n",
    "            x = \"A\"\n",
    "        attendance.append(x)\n",
    "        counter = df.shape[0]\n",
    "    \n",
    "    df.loc[counter] = attendance\n",
    "    df.to_csv('employee.csv')"
   ]
  },
  {
   "cell_type": "code",
   "execution_count": 32,
   "id": "4aa1d4e3-6f0f-4ab8-a8e2-58f5e450e283",
   "metadata": {},
   "outputs": [],
   "source": [
    "def attendance_calculator():\n",
    "    pd.read_csv(\"employee.csv\",index_col = 0)\n",
    "    for i in range(1,df.columns.size):\n",
    "        P = 0\n",
    "        A = 0\n",
    "        i = str(i)\n",
    "        for j in df[str(i)]:\n",
    "            if j == \"P\":\n",
    "                P += 1\n",
    "            else:\n",
    "                A += 1\n",
    "        print(\"Employee id \",i,\" is present for \",P,\" days and was absent for \",A,\"days.\")"
   ]
  },
  {
   "cell_type": "code",
   "execution_count": 33,
   "id": "92d5ae71-e00d-4b9a-a8d3-70f359b22f67",
   "metadata": {},
   "outputs": [],
   "source": [
    "def select(status):\n",
    "    match status:\n",
    "        case 1 :\n",
    "            attendance_system()\n",
    "        case 2 :\n",
    "            attendance_calculator()\n",
    "        case 3 :\n",
    "            add_new_employees()\n",
    "        case _ :\n",
    "            print(\"Error!!\")"
   ]
  },
  {
   "cell_type": "code",
   "execution_count": 34,
   "id": "b74d9637-92aa-424f-8a61-a10552f14aaa",
   "metadata": {},
   "outputs": [],
   "source": [
    "def main():\n",
    "    print(\"Good Morning!!\")\n",
    "    print(\"Today's Date - \",date.today())\n",
    "    print()\n",
    "    print(\"Select tool \\n Enter 1 for Attendance \\n Enter 2 for Attendance calculator \\n Enter 3 to add new employees \\n Enter any no. to exit \")\n",
    "    tool = int(input(\"Enter choice : \"))\n",
    "    while(tool<=4):\n",
    "        select(tool)\n",
    "        tool = int(input(\"Enter choice : \"))"
   ]
  },
  {
   "cell_type": "code",
   "execution_count": 36,
   "id": "807eeb7f-2c56-4c69-9e3b-075f4e491eb5",
   "metadata": {},
   "outputs": [
    {
     "name": "stdout",
     "output_type": "stream",
     "text": [
      "Good Morning!!\n",
      "Today's Date -  2024-04-04\n",
      "\n",
      "Select tool \n",
      " Enter 1 for Attendance \n",
      " Enter 2 for Attendance calculator \n",
      " Enter 3 to add new employees \n",
      " Enter any no. to exit \n"
     ]
    },
    {
     "name": "stdin",
     "output_type": "stream",
     "text": [
      "Enter choice :  3\n"
     ]
    },
    {
     "name": "stdout",
     "output_type": "stream",
     "text": [
      "Connection established!!\n"
     ]
    },
    {
     "name": "stdin",
     "output_type": "stream",
     "text": [
      "Enter name :  Chotu\n",
      "Enter id :  27\n",
      "Enter post :  Operator\n",
      "Enter age :  21\n",
      "Do you want to enter more data ? (Type 'Y' for yes) :  Y\n"
     ]
    },
    {
     "name": "stdout",
     "output_type": "stream",
     "text": [
      "Connection established!!\n"
     ]
    },
    {
     "name": "stdin",
     "output_type": "stream",
     "text": [
      "Enter name :  Sunny\n",
      "Enter id :  28\n",
      "Enter post :  TL\n",
      "Enter age :  29\n",
      "Do you want to enter more data ? (Type 'Y' for yes) :  n\n",
      "Do you want to enter more data ? (Type 'Y' for yes) :  n\n",
      "Enter choice :  2\n"
     ]
    },
    {
     "name": "stdout",
     "output_type": "stream",
     "text": [
      "Employee id  1  is present for  2  days and was absent for  0 days.\n",
      "Employee id  2  is present for  1  days and was absent for  1 days.\n",
      "Employee id  3  is present for  2  days and was absent for  0 days.\n",
      "Employee id  4  is present for  1  days and was absent for  1 days.\n",
      "Employee id  5  is present for  0  days and was absent for  2 days.\n",
      "Employee id  6  is present for  1  days and was absent for  1 days.\n",
      "Employee id  7  is present for  2  days and was absent for  0 days.\n",
      "Employee id  8  is present for  1  days and was absent for  1 days.\n",
      "Employee id  9  is present for  2  days and was absent for  0 days.\n",
      "Employee id  10  is present for  2  days and was absent for  0 days.\n",
      "Employee id  11  is present for  1  days and was absent for  1 days.\n",
      "Employee id  12  is present for  1  days and was absent for  1 days.\n",
      "Employee id  13  is present for  1  days and was absent for  1 days.\n",
      "Employee id  14  is present for  1  days and was absent for  1 days.\n",
      "Employee id  15  is present for  1  days and was absent for  1 days.\n",
      "Employee id  16  is present for  1  days and was absent for  1 days.\n",
      "Employee id  17  is present for  2  days and was absent for  0 days.\n",
      "Employee id  18  is present for  1  days and was absent for  1 days.\n",
      "Employee id  19  is present for  0  days and was absent for  2 days.\n",
      "Employee id  20  is present for  2  days and was absent for  0 days.\n",
      "Employee id  21  is present for  0  days and was absent for  2 days.\n",
      "Employee id  22  is present for  0  days and was absent for  2 days.\n",
      "Employee id  23  is present for  0  days and was absent for  2 days.\n",
      "Employee id  24  is present for  0  days and was absent for  2 days.\n",
      "Employee id  25  is present for  0  days and was absent for  2 days.\n",
      "Employee id  26  is present for  0  days and was absent for  2 days.\n"
     ]
    },
    {
     "name": "stdin",
     "output_type": "stream",
     "text": [
      "Enter choice :  9\n"
     ]
    }
   ],
   "source": [
    "main()"
   ]
  },
  {
   "cell_type": "code",
   "execution_count": null,
   "id": "d389907c-56f7-440e-b7bd-8a446b72536d",
   "metadata": {},
   "outputs": [],
   "source": []
  }
 ],
 "metadata": {
  "kernelspec": {
   "display_name": "Python 3 (ipykernel)",
   "language": "python",
   "name": "python3"
  },
  "language_info": {
   "codemirror_mode": {
    "name": "ipython",
    "version": 3
   },
   "file_extension": ".py",
   "mimetype": "text/x-python",
   "name": "python",
   "nbconvert_exporter": "python",
   "pygments_lexer": "ipython3",
   "version": "3.11.8"
  }
 },
 "nbformat": 4,
 "nbformat_minor": 5
}
